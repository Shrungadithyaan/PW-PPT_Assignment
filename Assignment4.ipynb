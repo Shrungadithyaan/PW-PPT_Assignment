{
 "cells": [
  {
   "attachments": {},
   "cell_type": "markdown",
   "metadata": {},
   "source": [
    "# 1.\n",
    "Convert 1D Array Into 2D Array\n",
    "\n",
    "You are given a **0-indexed** 1-dimensional (1D) integer array original, and two integers, m and n. You are tasked with creating a 2-dimensional (2D) array with  m rows and n columns using **all** the elements from original.\n",
    "\n",
    "The elements from indices 0 to n - 1 (**inclusive**) of original should form the first row of the constructed 2D array, the elements from indices n to 2 * n - 1 (**inclusive**) should form the second row of the constructed 2D array, and so on.\n",
    "\n",
    "Return *an* m x n *2D array constructed according to the above procedure, or an empty 2D array if it is impossible*.\n",
    "\n",
    "**Example 1:**\n",
    "\n",
    "**Input:** original = [1,2,3,4], m = 2, n = 2\n",
    "\n",
    "**Output:** [[1,2],[3,4]]\n",
    "\n",
    "**Explanation:** The constructed 2D array should contain 2 rows and 2 columns.\n",
    "\n",
    "The first group of n=2 elements in original, [1,2], becomes the first row in the constructed 2D array.\n",
    "\n",
    "The second group of n=2 elements in original, [3,4], becomes the second row in the constructed 2D array."
   ]
  },
  {
   "cell_type": "code",
   "execution_count": 1,
   "metadata": {},
   "outputs": [],
   "source": [
    "def convert_to_2d_array(original, m, n):\n",
    "    if len(original) != m * n:\n",
    "        return []\n",
    "    \n",
    "    array = [[0] * n for _ in range(m)]\n",
    "    \n",
    "    for i in range(m * n):\n",
    "        row = i // n\n",
    "        col = i % n\n",
    "        array[row][col] = original[i]\n",
    "    \n",
    "    return array\n"
   ]
  },
  {
   "cell_type": "code",
   "execution_count": 2,
   "metadata": {},
   "outputs": [
    {
     "name": "stdout",
     "output_type": "stream",
     "text": [
      "[[1, 2], [3, 4]]\n"
     ]
    }
   ],
   "source": [
    "original = [1, 2, 3, 4]\n",
    "m = 2\n",
    "n = 2\n",
    "result = convert_to_2d_array(original, m, n)\n",
    "print(result)\n"
   ]
  },
  {
   "attachments": {},
   "cell_type": "markdown",
   "metadata": {},
   "source": [
    "# 2.\n",
    "\n",
    "You have n coins and you want to build a staircase with these coins. The staircase consists of k rows where the ith row has exactly i coins. The last row of the staircase **may be** incomplete.\n",
    "\n",
    "Given the integer n, return *the number of **complete rows** of the staircase you will build*.\n",
    "\n",
    "**Example 1:**\n",
    "\n",
    "</aside>\n",
    "\n",
    "**Input:** n = 5\n",
    "\n",
    "**Output:** 2\n",
    "\n",
    "**Explanation:** Because the 3rd row is incomplete, we return 2."
   ]
  },
  {
   "cell_type": "code",
   "execution_count": 3,
   "metadata": {},
   "outputs": [],
   "source": [
    "def complete_rows(n):\n",
    "    i = 1\n",
    "    completeRows = 0\n",
    "    \n",
    "    while n >= i:\n",
    "        n -= i\n",
    "        i += 1\n",
    "        completeRows += 1\n",
    "    \n",
    "    return completeRows\n"
   ]
  },
  {
   "cell_type": "code",
   "execution_count": 4,
   "metadata": {},
   "outputs": [
    {
     "name": "stdout",
     "output_type": "stream",
     "text": [
      "2\n"
     ]
    }
   ],
   "source": [
    "n = 5\n",
    "result = complete_rows(n)\n",
    "print(result)\n"
   ]
  },
  {
   "attachments": {},
   "cell_type": "markdown",
   "metadata": {},
   "source": [
    "# 3.\n",
    "Given an integer array nums sorted in **non-decreasing** order, return *an array of **the squares of each number** sorted in non-decreasing order*.\n",
    "\n",
    "**Example 1:**\n",
    "\n",
    "**Input:** nums = [-4,-1,0,3,10]\n",
    "\n",
    "**Output:** [0,1,9,16,100]\n",
    "\n",
    "**Explanation:** After squaring, the array becomes [16,1,0,9,100].\n",
    "\n",
    "After sorting, it becomes [0,1,9,16,100]."
   ]
  },
  {
   "cell_type": "code",
   "execution_count": 5,
   "metadata": {},
   "outputs": [],
   "source": [
    "def sorted_squares(nums):\n",
    "    result = []\n",
    "    for num in nums:\n",
    "        result.append(num * num)\n",
    "    \n",
    "    result.sort()\n",
    "    return result\n"
   ]
  },
  {
   "cell_type": "code",
   "execution_count": 6,
   "metadata": {},
   "outputs": [
    {
     "name": "stdout",
     "output_type": "stream",
     "text": [
      "[0, 1, 9, 16, 100]\n"
     ]
    }
   ],
   "source": [
    "nums = [-4, -1, 0, 3, 10]\n",
    "result = sorted_squares(nums)\n",
    "print(result)\n"
   ]
  },
  {
   "cell_type": "code",
   "execution_count": null,
   "metadata": {},
   "outputs": [],
   "source": []
  }
 ],
 "metadata": {
  "kernelspec": {
   "display_name": "Python 3",
   "language": "python",
   "name": "python3"
  },
  "language_info": {
   "codemirror_mode": {
    "name": "ipython",
    "version": 3
   },
   "file_extension": ".py",
   "mimetype": "text/x-python",
   "name": "python",
   "nbconvert_exporter": "python",
   "pygments_lexer": "ipython3",
   "version": "3.10.11"
  },
  "orig_nbformat": 4
 },
 "nbformat": 4,
 "nbformat_minor": 2
}
